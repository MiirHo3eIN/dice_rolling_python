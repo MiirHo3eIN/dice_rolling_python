{
 "cells": [
  {
   "cell_type": "code",
   "execution_count": 11,
   "metadata": {},
   "outputs": [
    {
     "data": {
      "text/plain": [
       "'usr_word = input(\"please enter your word here: \")\\nusr_word = usr_word.lower()\\nprint(dic[usr_word])\\n'"
      ]
     },
     "execution_count": 11,
     "metadata": {},
     "output_type": "execute_result"
    }
   ],
   "source": [
    "'''\n",
    "# this is the spagetti code that I write\n",
    "import json \n",
    "dic = json.load(open(\"Dictionary.json\"))\n",
    "usr_word = input(\"please enter your word here: \")\n",
    "usr_word = usr_word.lower()\n",
    "print(dic[usr_word])\n",
    "'''"
   ]
  },
  {
   "cell_type": "code",
   "execution_count": 1,
   "metadata": {},
   "outputs": [],
   "source": [
    "#let's do it in a more nice way \n",
    "import json \n",
    "import difflib\n",
    "dic = json.load(open(\"Dictionary.json\"))\n",
    "\n",
    "def translator(word):\n",
    "    word = word.lower()\n",
    "    print(\"Here are the results for \"+ word + \": \\n\")\n",
    "    if word in dic: \n",
    "        return dic[word]\n",
    "    elif word.title() in dic: \n",
    "        return dic[word.title()] \n",
    "    elif word.upper() in dic:\n",
    "        return dic[word.upper()]\n",
    "    else: \n",
    "        print(\"No result found for your search\")\n",
    "        return 1\n",
    "    \n",
    "def close_match(miss_word):\n",
    "    correct = difflib.get_close_matches(miss_word, dic.keys())\n",
    "    return correct[0]"
   ]
  },
  {
   "cell_type": "code",
   "execution_count": null,
   "metadata": {
    "scrolled": true
   },
   "outputs": [],
   "source": [
    "while True:\n",
    "    new_wrd = input(\"Please Enter your word here: \")\n",
    "    spelling = close_match(new_wrd)\n",
    "    print(\"did you mean \" + spelling + \"?\")\n",
    "    decision = input(\"Press Y for yes and n for No: \")\n",
    "    print(decision)\n",
    "    if decision == y or Y:\n",
    "        synonym = translator(spelling)\n",
    "        i = 1\n",
    "        if synonym != 1:\n",
    "            for elements in synonym: \n",
    "                print(str(i) +\". \" + elements + \"\\n\")\n",
    "                i +=1\n",
    "    elif decision == n or N: \n",
    "        print(\"Try new search\")\n",
    "        continue \n",
    "    else: \n",
    "        print(\"Try new search\")\n",
    "        continue \n",
    "                \n",
    "                "
   ]
  },
  {
   "cell_type": "code",
   "execution_count": null,
   "metadata": {},
   "outputs": [],
   "source": []
  },
  {
   "cell_type": "code",
   "execution_count": null,
   "metadata": {},
   "outputs": [],
   "source": []
  }
 ],
 "metadata": {
  "kernelspec": {
   "display_name": "Python 3",
   "language": "python",
   "name": "python3"
  },
  "language_info": {
   "codemirror_mode": {
    "name": "ipython",
    "version": 3
   },
   "file_extension": ".py",
   "mimetype": "text/x-python",
   "name": "python",
   "nbconvert_exporter": "python",
   "pygments_lexer": "ipython3",
   "version": "3.6.9"
  }
 },
 "nbformat": 4,
 "nbformat_minor": 4
}
