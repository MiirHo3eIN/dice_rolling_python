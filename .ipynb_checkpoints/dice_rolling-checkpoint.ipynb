{
 "cells": [
  {
   "cell_type": "code",
   "execution_count": null,
   "metadata": {},
   "outputs": [
    {
     "name": "stdout",
     "output_type": "stream",
     "text": [
      "This is a simple Simulatio of a Dice: \n",
      "|------------|\n",
      "|   0     0  |\n",
      "|      0     |]\n",
      "|   0     0  |\n",
      "|------------|\n",
      "\n"
     ]
    }
   ],
   "source": [
    "import random \n",
    "print(\"This is a simple Simulatio of a Dice: \")\n",
    "while True: \n",
    "    res = random.randrange(6)\n",
    "    if res == 0:\n",
    "        print(\"|----------|\\n\"\n",
    "              \"|          |\\n\"\n",
    "              \"|     0    |\\n\"\n",
    "              \"|          |\\n\"\n",
    "              \"|----------|\\n\")\n",
    "    elif res == 1:\n",
    "        print(\"|----------|\\n\"\n",
    "              \"|          |\\n\"\n",
    "              \"|  0    0  |\\n\"\n",
    "              \"|          |\\n\"\n",
    "              \"|----------|\\n\")\n",
    "    elif res == 2:\n",
    "        print(\"|----------|\\n\"\n",
    "              \"|     0    |\\n\"\n",
    "              \"|     0    |\\n\"\n",
    "              \"|     0    |\\n\"\n",
    "              \"|----------|\\n\")\n",
    "    elif res == 3:\n",
    "        print(\"|----------|\\n\"\n",
    "              \"|  0    0  |\\n\"\n",
    "              \"|          |\\n\"\n",
    "              \"|  0    0  |\\n\"\n",
    "              \"|----------|\\n\")\n",
    "    elif res == 4:\n",
    "        print(\"|------------|\\n\"\n",
    "              \"|   0     0  |\\n\"\n",
    "              \"|      0     |\\n\"\n",
    "              \"|   0     0  |\\n\"\n",
    "              \"|------------|\\n\")\n",
    "    elif res == 5:\n",
    "        print(\"|------------|\\n\"\n",
    "              \"|   0     0  |\\n\"\n",
    "              \"|   0     0  |\\n\"\n",
    "              \"|   0     0  |\\n\"\n",
    "              \"|------------|\\n\")\n",
    "    new = input(\"press Y for the next roll or end for exiting the game: \")\n",
    "    if new == \"end\":\n",
    "        break\n"
   ]
  },
  {
   "cell_type": "code",
   "execution_count": null,
   "metadata": {},
   "outputs": [],
   "source": []
  }
 ],
 "metadata": {
  "kernelspec": {
   "display_name": "Python 3",
   "language": "python",
   "name": "python3"
  },
  "language_info": {
   "codemirror_mode": {
    "name": "ipython",
    "version": 3
   },
   "file_extension": ".py",
   "mimetype": "text/x-python",
   "name": "python",
   "nbconvert_exporter": "python",
   "pygments_lexer": "ipython3",
   "version": "3.6.9"
  }
 },
 "nbformat": 4,
 "nbformat_minor": 4
}
